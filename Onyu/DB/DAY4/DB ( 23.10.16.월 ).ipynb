{
 "cells": [
  {
   "cell_type": "markdown",
   "id": "9908c911",
   "metadata": {},
   "source": [
    "## Many to many relationships ( N:M  or  M:N )\n",
    "한 테이블의 0개 이상의 레코드가 다른 테이블의 0개 이상의 레코드와 관련된 경우\n",
    "( = 양쪽 모두에서 N:1 관계를 가짐 )"
   ]
  },
  {
   "cell_type": "markdown",
   "id": "53e33af8",
   "metadata": {},
   "source": [
    "예시프로젝트 99-mtm-practice 기반으로 진행\n",
    "병원 진료시스템 으로 봄\n",
    "\n",
    "- 한계 :\n",
    "    - 한명의 의사에게 여러 환자가 예약할 수 있다고 설계\n",
    "    "
   ]
  },
  {
   "cell_type": "markdown",
   "id": "9820f707",
   "metadata": {},
   "source": []
  },
  {
   "cell_type": "markdown",
   "id": "f4363aec",
   "metadata": {},
   "source": []
  },
  {
   "cell_type": "markdown",
   "id": "aa3b6bce",
   "metadata": {},
   "source": []
  },
  {
   "cell_type": "markdown",
   "id": "deb7eadc",
   "metadata": {},
   "source": []
  },
  {
   "cell_type": "markdown",
   "id": "3af425de",
   "metadata": {},
   "source": []
  },
  {
   "cell_type": "markdown",
   "id": "5d943e79",
   "metadata": {},
   "source": []
  },
  {
   "cell_type": "markdown",
   "id": "f069a945",
   "metadata": {},
   "source": []
  },
  {
   "cell_type": "markdown",
   "id": "5cb6e17e",
   "metadata": {},
   "source": []
  },
  {
   "cell_type": "markdown",
   "id": "0566e434",
   "metadata": {},
   "source": []
  },
  {
   "cell_type": "markdown",
   "id": "f56ecd5f",
   "metadata": {},
   "source": []
  },
  {
   "cell_type": "markdown",
   "id": "3e363ed3",
   "metadata": {},
   "source": []
  },
  {
   "cell_type": "markdown",
   "id": "c182bc07",
   "metadata": {},
   "source": []
  },
  {
   "cell_type": "markdown",
   "id": "4e9b958a",
   "metadata": {},
   "source": []
  },
  {
   "cell_type": "markdown",
   "id": "50f25511",
   "metadata": {},
   "source": []
  },
  {
   "cell_type": "markdown",
   "id": "92be22c0",
   "metadata": {},
   "source": []
  },
  {
   "cell_type": "markdown",
   "id": "8b6ad55b",
   "metadata": {},
   "source": []
  },
  {
   "cell_type": "markdown",
   "id": "4caad598",
   "metadata": {},
   "source": []
  },
  {
   "cell_type": "markdown",
   "id": "43ef31b7",
   "metadata": {},
   "source": []
  }
 ],
 "metadata": {
  "kernelspec": {
   "display_name": "Python 3 (ipykernel)",
   "language": "python",
   "name": "python3"
  },
  "language_info": {
   "codemirror_mode": {
    "name": "ipython",
    "version": 3
   },
   "file_extension": ".py",
   "mimetype": "text/x-python",
   "name": "python",
   "nbconvert_exporter": "python",
   "pygments_lexer": "ipython3",
   "version": "3.9.13"
  }
 },
 "nbformat": 4,
 "nbformat_minor": 5
}
